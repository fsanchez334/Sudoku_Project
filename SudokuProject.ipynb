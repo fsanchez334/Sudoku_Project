{
  "nbformat": 4,
  "nbformat_minor": 0,
  "metadata": {
    "colab": {
      "name": "SudokuProject.ipynb",
      "provenance": [],
      "collapsed_sections": []
    },
    "kernelspec": {
      "name": "python3",
      "display_name": "Python 3"
    },
    "language_info": {
      "name": "python"
    }
  },
  "cells": [
    {
      "cell_type": "markdown",
      "source": [
        "## Step 1: Importing libraries\n",
        "First, we import the libraries that we need to complete the project"
      ],
      "metadata": {
        "id": "po439si2AtZH"
      }
    },
    {
      "cell_type": "code",
      "source": [
        "import numpy as np\n",
        "from collections import defaultdict\n",
        "import heapq"
      ],
      "metadata": {
        "id": "ObIkarRsAnsP"
      },
      "execution_count": 110,
      "outputs": []
    },
    {
      "cell_type": "markdown",
      "source": [
        "## Step 2: Defining the Sudoku Class\n",
        "In this step, we define the Sudoku object. The board will be represent by a standard 9 X 9 board. We include important member variables such as the possible values we can choose from, as well as the length of the board.\n",
        "\n",
        "We also include five member functions - each has their appropriate descriptions below"
      ],
      "metadata": {
        "id": "BDa8WQKJA7SU"
      }
    },
    {
      "cell_type": "code",
      "source": [
        "class Sudoku:\n",
        "  def __init__(self, starter):\n",
        "    self.board = np.reshape(np.array(starter), (9, 9))\n",
        "    self.length = len(self.board)\n",
        "    self.options = set([x for x in range(1, 10)])\n",
        "\n",
        "  def make_centers(self):\n",
        "    #Here, we first make the centers\n",
        "      proxy = (1, 1)\n",
        "      stack = [proxy]\n",
        "      collections_core = []\n",
        "      center_tracker = defaultdict(lambda: [])\n",
        "      for i in range(4):\n",
        "        collections_core.append(stack[-1])\n",
        "        for j in range(2):\n",
        "            current_coor = stack.pop()\n",
        "            other = (current_coor[0], current_coor[1] + 3)\n",
        "            collections_core.append(other)\n",
        "            stack.append(other)\n",
        "        proxy = (proxy[0] + 3, proxy[1])\n",
        "        stack.append(proxy)\n",
        "      self.coordinates_appendix = defaultdict()\n",
        "      for coordinate in collections_core:\n",
        "        one = (coordinate[0] - 1, coordinate[1] - 1)\n",
        "        two = (coordinate[0] - 1, coordinate[1])\n",
        "        three = (coordinate[0] - 1, coordinate[1] + 1)\n",
        "        four = (coordinate[0], coordinate[1] - 1)\n",
        "        five = (coordinate[0], coordinate[1] + 1)\n",
        "        six = (coordinate[0]+ 1, coordinate[1] - 1)\n",
        "        seven = (coordinate[0] + 1, coordinate[1])\n",
        "        eight = (coordinate[0] + 1, coordinate[1] + 1)\n",
        "        container = {one, two, three, four, five, six, seven, eight}\n",
        "        keys_ = {one: coordinate, two: coordinate, three: coordinate, \n",
        "                four: coordinate, five: coordinate, six: coordinate,\n",
        "                seven: coordinate, eight: coordinate, coordinate:coordinate}\n",
        "        center_tracker[coordinate]\n",
        "        self.coordinates_appendix.update(keys_)\n",
        "      return center_tracker\n",
        "      \n",
        "\n",
        "  def check_centers(self, coordinate):\n",
        "    #Here we check what center the coordinate belongs to\n",
        "    home_center = self.coordinates_appendix[coordinate]\n",
        "    return home_center    \n",
        "\n",
        "  def iteration(self):\n",
        "    value_tracker = defaultdict(lambda: [])\n",
        "    center_tracker = self.make_centers()\n",
        "    for idx, x in np.ndenumerate(self.board):\n",
        "      if idx in self.coordinates_appendix.values():\n",
        "        center_tracker[idx].append(x)\n",
        "        continue\n",
        "      else:\n",
        "        #Now check, what center coordinate belongs to\n",
        "        home_center = self.check_centers(idx)\n",
        "        center_tracker[home_center].append(x)\n",
        "\n",
        "    for idx, x in np.ndenumerate(self.board):\n",
        "      if x != 0:\n",
        "        continue\n",
        "      else:\n",
        "        column = set(self.board[:, idx[1]])\n",
        "        row = set(self.board[idx[0], :])\n",
        "        container = column.union(row) #Shows values present in the rows and columns of a particular coordinate\n",
        "        if 0 in container:\n",
        "          container.remove(0)\n",
        "        home_center = self.check_centers(idx)\n",
        "        boxer_values = set(center_tracker[home_center])\n",
        "        container = container.union(boxer_values)\n",
        "        #Now, we need the values we can actually use for every coordinate\n",
        "        valid_options = self.options.difference(container)\n",
        "        #We then have to remove the options that are present in the squares\n",
        "        #1st: Check which square the coordinate belongs to\n",
        "        value_tracker[idx] = valid_options\n",
        "    return value_tracker\n",
        "\n",
        "  def make_move(self, index, value):\n",
        "    self.board[index[0]][index[1]] = value\n",
        "\n",
        "  def is_solved(self):\n",
        "    shaper = self.board.flatten()\n",
        "    if 0 in shaper:\n",
        "      return False\n",
        "    else:\n",
        "      return True\n",
        "\n"
      ],
      "metadata": {
        "id": "q0w2xngf4po1"
      },
      "execution_count": 111,
      "outputs": []
    },
    {
      "cell_type": "markdown",
      "source": [
        "## Step 3: Additional Helper Functions\n",
        "The functions that follow are additional ones that can help us organize our work and analysis\n"
      ],
      "metadata": {
        "id": "XQquEEKlE3_J"
      }
    },
    {
      "cell_type": "code",
      "source": [
        "def no_moves(value_tracker):\n",
        "  #Checks to see if an index has no available options\n",
        "  for value in value_tracker.values():\n",
        "    if len(value) == 0:\n",
        "      return True\n",
        "  return False\n",
        "    \n",
        "\n",
        "def index_queue(value_tracker):\n",
        "  #Determine what order of indices we are going to fill out -> Minimum Remaining Value Heuristic\n",
        "  heaper = []\n",
        "  heapq.heapify(heaper)\n",
        "  for key, value in value_tracker.items():\n",
        "    heapq.heappush(heaper, (len(value), key))\n",
        "  return heaper\n",
        "\n",
        "#First: Pop off the queue to see which index to pop\n",
        "def next_move(dictionary, queue, board):\n",
        "  candidate_coor = heapq.heappop(queue)[1]\n",
        "  #Now, access the value for this\n",
        "  value = dictionary[candidate_coor].pop()\n",
        "  #Now, get place the value into the appropriate spot\n",
        "  board.make_move(candidate_coor, value)\n",
        "\n",
        "def solve(boarder):\n",
        "  tracker = boarder.iteration()\n",
        "  if boarder.is_solved() or no_moves(tracker):\n",
        "    print(boarder.board)\n",
        "    return boarder.board\n",
        "  else:\n",
        "    queue = index_queue(tracker)\n",
        "    coordinate = heapq.heappop(queue)[1]\n",
        "    value = tracker[coordinate].pop()\n",
        "    boarder.make_move(coordinate, value)\n",
        "    solve(boarder)\n",
        "    boarder.make_move(coordinate, 0)\n",
        "\n"
      ],
      "metadata": {
        "id": "dAWZ1wi1FGyg"
      },
      "execution_count": 112,
      "outputs": []
    },
    {
      "cell_type": "markdown",
      "source": [
        "## Step 4: Defining the Main Function"
      ],
      "metadata": {
        "id": "x1umNjtTJ7gx"
      }
    },
    {
      "cell_type": "code",
      "source": [
        "starter = \"000260701680070090190004500820100040004602900050003028009300074040050036703018000\"\n",
        "start = [int(x) for x in starter]\n",
        "boarder = Sudoku(start)\n",
        "answer = solve(boarder)\n",
        "answer"
      ],
      "metadata": {
        "id": "wcYrMgvRK81p",
        "colab": {
          "base_uri": "https://localhost:8080/"
        },
        "outputId": "64f321aa-9bf5-4f3c-b03e-445ce81b1711"
      },
      "execution_count": 113,
      "outputs": [
        {
          "output_type": "stream",
          "name": "stdout",
          "text": [
            "[[4 3 5 2 6 9 7 8 1]\n",
            " [6 8 2 5 7 1 4 9 3]\n",
            " [1 9 7 8 3 4 5 6 2]\n",
            " [8 2 6 1 9 5 3 4 7]\n",
            " [3 7 4 6 8 2 9 1 5]\n",
            " [9 5 1 7 4 3 6 2 8]\n",
            " [5 1 9 3 2 6 8 7 4]\n",
            " [2 4 8 9 5 7 1 3 6]\n",
            " [7 6 3 4 1 8 2 5 9]]\n"
          ]
        }
      ]
    }
  ]
}